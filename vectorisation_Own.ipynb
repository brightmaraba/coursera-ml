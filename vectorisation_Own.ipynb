{
 "cells": [
  {
   "cell_type": "code",
   "execution_count": 8,
   "metadata": {},
   "outputs": [],
   "source": [
    "import numpy as np"
   ]
  },
  {
   "cell_type": "code",
   "execution_count": 9,
   "metadata": {},
   "outputs": [],
   "source": [
    "w = np.array([1.0, 2.5, -3.3]) # Rem: Code count starts at 0, so this w[0], w[1], w[2]\n",
    "b = 4.0\n",
    "x = np.array([10, 20, 30]) # Rem: Code count starts at 0, so this x[0], x[1], x[2]\n",
    "n = 3 # Number of inputs"
   ]
  },
  {
   "cell_type": "code",
   "execution_count": 10,
   "metadata": {},
   "outputs": [
    {
     "data": {
      "text/plain": [
       "-35.0"
      ]
     },
     "execution_count": 10,
     "metadata": {},
     "output_type": "execute_result"
    }
   ],
   "source": [
    "# Without Vectorization\n",
    "#f = w[0]*x[0] + w[1]*x[1] + w[2]*x[2] + b\n",
    "# For large vectors, this is not efficient\n",
    "# Using summation\n",
    "f = 0\n",
    "for j in range(n):\n",
    "    f += w[j]*x[j]\n",
    "f += b\n",
    "f"
   ]
  },
  {
   "cell_type": "code",
   "execution_count": 12,
   "metadata": {},
   "outputs": [
    {
     "data": {
      "text/plain": [
       "-35.0"
      ]
     },
     "execution_count": 12,
     "metadata": {},
     "output_type": "execute_result"
    }
   ],
   "source": [
    "#Uisng Vectorization\n",
    "f = np.dot(w, x) + b\n",
    "f"
   ]
  }
 ],
 "metadata": {
  "kernelspec": {
   "display_name": "coursera-ml",
   "language": "python",
   "name": "python3"
  },
  "language_info": {
   "codemirror_mode": {
    "name": "ipython",
    "version": 3
   },
   "file_extension": ".py",
   "mimetype": "text/x-python",
   "name": "python",
   "nbconvert_exporter": "python",
   "pygments_lexer": "ipython3",
   "version": "3.11.6"
  }
 },
 "nbformat": 4,
 "nbformat_minor": 2
}
